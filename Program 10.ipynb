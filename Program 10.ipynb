{
 "cells": [
  {
   "cell_type": "code",
   "execution_count": null,
   "metadata": {},
   "outputs": [
    {
     "name": "stdout",
     "output_type": "stream",
     "text": [
      "\tWelcome to the 'Three-Year-Old Simulator'\n",
      "\n",
      "This program simulates a conversation with a three-year-old child.\n",
      "Try to stop the madness.\n",
      "\n"
     ]
    }
   ],
   "source": [
    "# Three Year-Old Simulator Program\n",
    "\n",
    "print(\"\\tWelcome to the 'Three-Year-Old Simulator'\\n\")\n",
    "print(\"This program simulates a conversation with a three-year-old child.\")\n",
    "print(\"Try to stop the madness.\\n\")\n",
    "\n",
    "response = \"\"\n",
    "while response != \"Because.\":\n",
    "    response = input(\"Why?\\n\")\n",
    "\n",
    "print(\"Oh.  Okay.\")"
   ]
  },
  {
   "cell_type": "code",
   "execution_count": null,
   "metadata": {},
   "outputs": [],
   "source": [
    "# Losing Battle Incorrect Program\n",
    "\n",
    "print(\"Your lone hero is surrounded by a massive army of trolls.\")\n",
    "print(\"Their decaying green bodies stretch out, melting into the horizon.\")\n",
    "print(\"Your hero unsheathes his sword for the last fight of his life.\\n\")\n",
    "\n",
    "health = 10\n",
    "trolls = 0\n",
    "damage = 3\n",
    "\n",
    "while health != 0:\n",
    "    trolls += 1\n",
    "    health -= damage\n",
    "    \n",
    "    print(\"Your hero swings and defeats an evil troll, \" \\\n",
    "          \"but takes\", damage, \"damage points.\\n\")\n",
    "\n",
    "print(\"Your hero fought valiantly and defeated\", trolls, \"trolls.\")\n",
    "print(\"But alas, your hero is no more.\")"
   ]
  },
  {
   "cell_type": "code",
   "execution_count": null,
   "metadata": {},
   "outputs": [],
   "source": [
    "# Losing Battle Correct Program\n",
    "\n",
    "print(\"Your lone hero is surrounded by a massive army of trolls.\")\n",
    "print(\"Their decaying green bodies stretch out, melting into the horizon.\")\n",
    "print(\"Your hero unsheathes his sword for the last fight of his life.\\n\")\n",
    "\n",
    "health = 10\n",
    "trolls = 0\n",
    "damage = 3\n",
    "\n",
    "while health > 0:\n",
    "    trolls += 1\n",
    "    health -= damage\n",
    "    \n",
    "    print(\"Your hero swings and defeats an evil troll, \" \\\n",
    "          \"but takes\", damage, \"damage points.\\n\")\n",
    "\n",
    "print(\"Your hero fought valiantly and defeated\", trolls, \"trolls.\")\n",
    "print(\"But alas, your hero is no more.\")"
   ]
  },
  {
   "cell_type": "code",
   "execution_count": null,
   "metadata": {},
   "outputs": [],
   "source": [
    "# Finicky Counter Program\n",
    "\n",
    "count = 0\n",
    "while True:\n",
    "    count += 1\n",
    "    if count > 10:\n",
    "        break\n",
    "    if count == 5:\n",
    "        continue\n",
    "    print(count)"
   ]
  },
  {
   "cell_type": "code",
   "execution_count": null,
   "metadata": {},
   "outputs": [],
   "source": [
    "# Exclusive Network Program\n",
    "\n",
    "print(\"\\tExclusive Computer Network\")\n",
    "print(\"\\t\\tMembers only!\\n\")\n",
    "\n",
    "security = 0\n",
    "\n",
    "username = \"\"\n",
    "while not username:\n",
    "    username = input(\"Username: \")\n",
    "\n",
    "password = \"\"\n",
    "while not password:\n",
    "    password = input(\"Password: \")\n",
    "\n",
    "if username == \"M.Dawson\" and password == \"secret\":\n",
    "    print(\"Hi, Mike.\")\n",
    "    security = 5\n",
    "elif username == \"S.Meier\" and password == \"civilization\":\n",
    "    print(\"Hey, Sid.\")\n",
    "    security = 3\n",
    "elif username == \"S.Miyamoto\" and password == \"mariobros\":\n",
    "    print(\"What's up, Shigeru?\")\n",
    "    security = 3\n",
    "elif username == \"W.Wright\" and password == \"thesims\":\n",
    "    print(\"How goes it, Will?\")\n",
    "    security = 3\n",
    "elif username == \"guest\" or password == \"guest\":\n",
    "    print(\"Welcome, guest.\")\n",
    "    security = 1\n",
    "else:\n",
    "    print(\"Login failed.  You're not so exclusive.\\n\")"
   ]
  },
  {
   "cell_type": "code",
   "execution_count": null,
   "metadata": {},
   "outputs": [],
   "source": [
    "#Maitre D Program\n",
    "\n",
    "print(\"Welcome to the Chateau D' Food\")\n",
    "print(\"It seems we are quite full this evening.\\n\")\n",
    "\n",
    "money = int(input(\"How many dollars do you slip the Maitre D'? \"))\n",
    "\n",
    "if money:\n",
    "    print(\"Ah, I am reminded of a table.  Right this way.\")\n",
    "else:\n",
    "    print(\"Please, sit.  It may be a while.\")"
   ]
  },
  {
   "cell_type": "code",
   "execution_count": null,
   "metadata": {},
   "outputs": [],
   "source": []
  }
 ],
 "metadata": {
  "kernelspec": {
   "display_name": "Python 3",
   "language": "python",
   "name": "python3"
  },
  "language_info": {
   "codemirror_mode": {
    "name": "ipython",
    "version": 3
   },
   "file_extension": ".py",
   "mimetype": "text/x-python",
   "name": "python",
   "nbconvert_exporter": "python",
   "pygments_lexer": "ipython3",
   "version": "3.7.1"
  }
 },
 "nbformat": 4,
 "nbformat_minor": 2
}
