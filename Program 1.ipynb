{
 "cells": [
  {
   "cell_type": "code",
   "execution_count": 1,
   "metadata": {},
   "outputs": [],
   "source": [
    "# Useless Trivia\n",
    "#\n",
    "# Gets personal information from the user and then\n",
    "# prints true but useless information about him or her"
   ]
  },
  {
   "cell_type": "code",
   "execution_count": 2,
   "metadata": {},
   "outputs": [
    {
     "name": "stdout",
     "output_type": "stream",
     "text": [
      "Hi.  What's your name? Kevin\n",
      "How old are you? 22\n",
      "Okay, last question.  How many pounds do you weigh? 180\n"
     ]
    }
   ],
   "source": [
    "name = input(\"Hi.  What's your name? \")\n",
    "\n",
    "age = input(\"How old are you? \")\n",
    "age = int(age)\n",
    "\n",
    "weight = int(input(\"Okay, last question.  How many pounds do you weigh? \"))"
   ]
  },
  {
   "cell_type": "code",
   "execution_count": 3,
   "metadata": {},
   "outputs": [
    {
     "name": "stdout",
     "output_type": "stream",
     "text": [
      "\n",
      "If poet ee cummings were to email you, he'd address you as kevin\n",
      "But if ee were mad, he'd call you KEVIN\n"
     ]
    }
   ],
   "source": [
    "print(\"\\nIf poet ee cummings were to email you, he'd address you as\",\n",
    "      name.lower())\n",
    "print(\"But if ee were mad, he'd call you\", name.upper())"
   ]
  },
  {
   "cell_type": "code",
   "execution_count": 4,
   "metadata": {},
   "outputs": [
    {
     "name": "stdout",
     "output_type": "stream",
     "text": [
      "\n",
      "If a small child were trying to get your attention\n",
      "your name would become:\n",
      "KevinKevinKevinKevinKevin\n"
     ]
    }
   ],
   "source": [
    "called = name * 5\n",
    "print(\"\\nIf a small child were trying to get your attention\",)\n",
    "print(\"your name would become:\")\n",
    "print(called)"
   ]
  },
  {
   "cell_type": "code",
   "execution_count": 5,
   "metadata": {},
   "outputs": [
    {
     "name": "stdout",
     "output_type": "stream",
     "text": [
      "\n",
      "You're over 693792000 seconds old.\n"
     ]
    }
   ],
   "source": [
    "seconds = age * 365 * 24 * 60 * 60\n",
    "print(\"\\nYou're over\", seconds, \"seconds old.\")"
   ]
  },
  {
   "cell_type": "code",
   "execution_count": 6,
   "metadata": {},
   "outputs": [
    {
     "name": "stdout",
     "output_type": "stream",
     "text": [
      "\n",
      "Did you know that on the moon you would weigh only 30.0 pounds?\n",
      "On the sun, you'd weigh 4878.0 (but, ah... not for long).\n"
     ]
    }
   ],
   "source": [
    "moon_weight = weight / 6\n",
    "print(\"\\nDid you know that on the moon you would weigh only\",\n",
    "      moon_weight, \"pounds?\")\n",
    "\n",
    "sun_weight = weight * 27.1\n",
    "print(\"On the sun, you'd weigh\", sun_weight, \"(but, ah... not for long).\")"
   ]
  },
  {
   "cell_type": "code",
   "execution_count": 7,
   "metadata": {},
   "outputs": [
    {
     "name": "stdout",
     "output_type": "stream",
     "text": [
      "\n",
      "\n",
      "Press the enter key to exit.\n"
     ]
    },
    {
     "data": {
      "text/plain": [
       "''"
      ]
     },
     "execution_count": 7,
     "metadata": {},
     "output_type": "execute_result"
    }
   ],
   "source": [
    "input(\"\\n\\nPress the enter key to exit.\")"
   ]
  },
  {
   "cell_type": "code",
   "execution_count": null,
   "metadata": {},
   "outputs": [],
   "source": []
  }
 ],
 "metadata": {
  "kernelspec": {
   "display_name": "Python 3",
   "language": "python",
   "name": "python3"
  },
  "language_info": {
   "codemirror_mode": {
    "name": "ipython",
    "version": 3
   },
   "file_extension": ".py",
   "mimetype": "text/x-python",
   "name": "python",
   "nbconvert_exporter": "python",
   "pygments_lexer": "ipython3",
   "version": "3.7.1"
  }
 },
 "nbformat": 4,
 "nbformat_minor": 2
}
