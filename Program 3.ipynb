{
 "cells": [
  {
   "cell_type": "code",
   "execution_count": null,
   "metadata": {},
   "outputs": [],
   "source": [
    "#Buying and selling based on price, rating and factor\n",
    "\n",
    "#factor=123000\n",
    "factor=123000\n",
    "#get rating from user (rating should vary between 0-10)\n",
    "rating=input(\"Input a Rating between 1 and 10\")\n",
    "#get price from user (price should vary between 100000 and 2 million)\n",
    "price=input(\"Input a price between 100000 and 2 million\")\n",
    "#make buy or dont buy decision\n",
    "if price<(rating*factor):\n",
    "    print (\"Buy\")\n",
    "if price>(rating*factor):\n",
    "    print (\"Don't Buy\")"
   ]
  },
  {
   "cell_type": "code",
   "execution_count": null,
   "metadata": {},
   "outputs": [],
   "source": [
    "#factor=123000\n",
    "factor=123000\n",
    "#get rating from user (rating should vary between 0-10)\n",
    "rating_string=input(\"Enter Rating, between 0 and 10: \")\n",
    "#get price from user (price should vary between 100000 and 2 million)\n",
    "price_=input(\"Enter price, between 100000 and 2 million: \")\n",
    "price_int=int(price_string)\n",
    "#make buy or dont buy decision\n",
    "#if the price is lower than (rating*factor), buy\n",
    "if price_int<(rating_int*factor):\n",
    "    print (\"Buy\")\n",
    "#if the price is higher than the (rating*factor), don't buy\n",
    "elif price_int>rating_int*factor:\n",
    "    print (\"Don't Buy\")"
   ]
  },
  {
   "cell_type": "code",
   "execution_count": null,
   "metadata": {},
   "outputs": [],
   "source": []
  }
 ],
 "metadata": {
  "kernelspec": {
   "display_name": "Python 3",
   "language": "python",
   "name": "python3"
  },
  "language_info": {
   "codemirror_mode": {
    "name": "ipython",
    "version": 3
   },
   "file_extension": ".py",
   "mimetype": "text/x-python",
   "name": "python",
   "nbconvert_exporter": "python",
   "pygments_lexer": "ipython3",
   "version": "3.7.1"
  }
 },
 "nbformat": 4,
 "nbformat_minor": 2
}
