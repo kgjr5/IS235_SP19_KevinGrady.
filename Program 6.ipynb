{
 "cells": [
  {
   "cell_type": "code",
   "execution_count": 1,
   "metadata": {},
   "outputs": [
    {
     "name": "stdout",
     "output_type": "stream",
     "text": [
      "sell\n",
      "sell\n",
      "sell\n",
      "sell\n",
      "sell\n",
      "sell\n",
      "sell\n",
      "sell\n",
      "buy\n",
      "do nothing\n",
      "sell\n",
      "sell\n",
      "sell\n",
      "sell\n",
      "buy\n",
      "do nothing\n",
      "buy\n",
      "do nothing\n",
      "sell\n",
      "sell\n",
      "sell\n",
      "buy\n",
      "do nothing\n",
      "sell\n",
      "sell\n",
      "sell\n",
      "sell\n",
      "sell\n",
      "buy\n",
      "do nothing\n",
      "sell\n",
      "sell\n",
      "sell\n",
      "sell\n",
      "sell\n",
      "sell\n",
      "sell\n",
      "sell\n",
      "sell\n",
      "buy\n",
      "do nothing\n",
      "sell\n",
      "sell\n",
      "sell\n",
      "sell\n"
     ]
    }
   ],
   "source": [
    "#Sentiment trading: if sentiment has “e” and “w”, factor = 3000, if sentiment has “r” but not “t”, sentiment = 4000\n",
    "\n",
    "import pandas as pd\n",
    "sent_analysis = pd.read_csv(\"sentiment_analysis (1).csv\")\n",
    "lines = sent_analysis.index.size\n",
    "for i in range (lines):\n",
    "    word = (sent_analysis.at[i, 'Sentiment'])\n",
    "    rating = float (sent_analysis.at[i, 'Rating'])\n",
    "    price = float (sent_analysis.at[i, 'Price'])\n",
    "    if \"e\" in word and \"w\" in word:   \n",
    "        factor = 3000\n",
    "    elif \"r\" in word and \"t\" not in word:\n",
    "        factor = 4000\n",
    "    else:\n",
    "        factor = 2000\n",
    "    if price > (rating*factor):\n",
    "        print (\"buy\")\n",
    "    if price < (rating*factor):\n",
    "        print (\"sell\")\n",
    "    else:\n",
    "        print (\"do nothing\")\n"
   ]
  },
  {
   "cell_type": "code",
   "execution_count": null,
   "metadata": {},
   "outputs": [],
   "source": []
  },
  {
   "cell_type": "code",
   "execution_count": null,
   "metadata": {},
   "outputs": [],
   "source": []
  }
 ],
 "metadata": {
  "kernelspec": {
   "display_name": "Python 3",
   "language": "python",
   "name": "python3"
  },
  "language_info": {
   "codemirror_mode": {
    "name": "ipython",
    "version": 3
   },
   "file_extension": ".py",
   "mimetype": "text/x-python",
   "name": "python",
   "nbconvert_exporter": "python",
   "pygments_lexer": "ipython3",
   "version": "3.7.1"
  }
 },
 "nbformat": 4,
 "nbformat_minor": 2
}
