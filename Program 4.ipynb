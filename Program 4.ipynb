{
 "cells": [
  {
   "cell_type": "code",
   "execution_count": null,
   "metadata": {},
   "outputs": [
    {
     "name": "stdout",
     "output_type": "stream",
     "text": [
      "\tWelcome to 'Guess My Number'!\n",
      "\n",
      "I'm thinking of a number between 1 and 100.\n",
      "Try to guess it in as few attempts as possible.\n",
      "\n"
     ]
    }
   ],
   "source": [
    "# Random Number Guess\n",
    "\n",
    "import random  \n",
    "\n",
    "print(\"\\tWelcome to 'Guess My Number'!\")\n",
    "print(\"\\nI'm thinking of a number between 1 and 100.\")\n",
    "print(\"Try to guess it in as few attempts as possible.\\n\")\n",
    "\n",
    "the_number = random.randint(1, 100)\n",
    "guess = int(input(\"Take a guess: \"))\n",
    "tries = 1\n",
    "\n",
    "while guess != the_number:\n",
    "    if guess > the_number:\n",
    "        print(\"Lower...\")\n",
    "    else:\n",
    "        print(\"Higher...\")\n",
    "            \n",
    "    guess = int(input(\"Take a guess: \"))\n",
    "    tries += 1\n",
    "\n",
    "print(\"You guessed it!  The number was\", the_number)\n",
    "print(\"And it only took you\", tries, \"tries!\\n\")"
   ]
  },
  {
   "cell_type": "code",
   "execution_count": null,
   "metadata": {},
   "outputs": [],
   "source": []
  }
 ],
 "metadata": {
  "kernelspec": {
   "display_name": "Python 3",
   "language": "python",
   "name": "python3"
  },
  "language_info": {
   "codemirror_mode": {
    "name": "ipython",
    "version": 3
   },
   "file_extension": ".py",
   "mimetype": "text/x-python",
   "name": "python",
   "nbconvert_exporter": "python",
   "pygments_lexer": "ipython3",
   "version": "3.7.1"
  }
 },
 "nbformat": 4,
 "nbformat_minor": 2
}
