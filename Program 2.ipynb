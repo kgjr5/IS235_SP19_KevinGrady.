{
 "cells": [
  {
   "cell_type": "code",
   "execution_count": null,
   "metadata": {},
   "outputs": [],
   "source": [
    "# Python for the Absolute Beginner, Ch.4, Checkpoint 2\n",
    "\n",
    "Message = input(\"Enter a message: \")\n",
    "high=len(Message)\n",
    "low=-len(Message)\n",
    "position=high-1\n",
    "for i in range(len(Message)):\n",
    "    print(\"Message\", position, Message[position])\n",
    "    position-=1\n"
   ]
  },
  {
   "cell_type": "code",
   "execution_count": null,
   "metadata": {},
   "outputs": [],
   "source": []
  }
 ],
 "metadata": {
  "kernelspec": {
   "display_name": "Python 3",
   "language": "python",
   "name": "python3"
  },
  "language_info": {
   "codemirror_mode": {
    "name": "ipython",
    "version": 3
   },
   "file_extension": ".py",
   "mimetype": "text/x-python",
   "name": "python",
   "nbconvert_exporter": "python",
   "pygments_lexer": "ipython3",
   "version": "3.7.1"
  }
 },
 "nbformat": 4,
 "nbformat_minor": 2
}
