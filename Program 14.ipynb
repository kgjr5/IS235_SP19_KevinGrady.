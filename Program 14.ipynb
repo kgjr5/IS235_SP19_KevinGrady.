{
 "cells": [
  {
   "cell_type": "code",
   "execution_count": null,
   "metadata": {},
   "outputs": [
    {
     "name": "stdout",
     "output_type": "stream",
     "text": [
      "\n",
      "    High Scores 2.0\n",
      "    \n",
      "    0 - Quit\n",
      "    1 - List Scores\n",
      "    2 - Add a Score\n",
      "    \n"
     ]
    }
   ],
   "source": [
    "#Python for the Absolute Beginner pgs. 134-138\n",
    "\n",
    "# High Scores 2.0\n",
    "\n",
    "scores = []\n",
    "\n",
    "choice = None\n",
    "while choice != \"0\":\n",
    "\n",
    "    print(\n",
    "    \"\"\"\n",
    "    High Scores 2.0\n",
    "    \n",
    "    0 - Quit\n",
    "    1 - List Scores\n",
    "    2 - Add a Score\n",
    "    \"\"\"\n",
    "    )\n",
    "    \n",
    "    choice = input(\"Choice: \")\n",
    "    print()\n",
    "\n",
    "    # exit\n",
    "    if choice == \"0\":\n",
    "        print(\"Good-bye.\")\n",
    "\n",
    "    # display high-score table\n",
    "    elif choice == \"1\":\n",
    "        print(\"High Scores\\n\")\n",
    "        print(\"NAME\\tSCORE\")\n",
    "        for entry in scores:\n",
    "            score, name = entry    \n",
    "            print(name, \"\\t\", score)\n",
    "\n",
    "    # add a score\n",
    "    elif choice == \"2\":\n",
    "        name = input(\"What is the player's name?: \")\n",
    "        score = int(input(\"What score did the player get?: \"))\n",
    "        entry = (score, name)\n",
    "        scores.append(entry)\n",
    "        scores.sort(reverse=True)\n",
    "        scores = scores[:5]     # keep only top 5 scores\n",
    "\n",
    "    # some unknown choice\n",
    "    else:\n",
    "        print(\"Sorry, but\", choice, \"isn't a valid choice.\")\n",
    "  "
   ]
  },
  {
   "cell_type": "code",
   "execution_count": null,
   "metadata": {},
   "outputs": [],
   "source": []
  }
 ],
 "metadata": {
  "kernelspec": {
   "display_name": "Python 3",
   "language": "python",
   "name": "python3"
  },
  "language_info": {
   "codemirror_mode": {
    "name": "ipython",
    "version": 3
   },
   "file_extension": ".py",
   "mimetype": "text/x-python",
   "name": "python",
   "nbconvert_exporter": "python",
   "pygments_lexer": "ipython3",
   "version": "3.7.1"
  }
 },
 "nbformat": 4,
 "nbformat_minor": 2
}
