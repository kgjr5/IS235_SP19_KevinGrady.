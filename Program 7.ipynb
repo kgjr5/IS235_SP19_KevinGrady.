{
 "cells": [
  {
   "cell_type": "code",
   "execution_count": null,
   "metadata": {},
   "outputs": [
    {
     "name": "stdout",
     "output_type": "stream",
     "text": [
      "Welcome to System Security Inc.\n",
      "-- where security is our middle name\n",
      "\n"
     ]
    }
   ],
   "source": [
    "#Python for the absolute beginner: Page 57-66 (Ch. 3)\n",
    "\n",
    "#Granted or Denied Program\n",
    "\n",
    "print(\"Welcome to System Security Inc.\")\n",
    "print(\"-- where security is our middle name\\n\")\n",
    "\n",
    "password = input(\"Enter your password: \")\n",
    "\n",
    "if password == \"secret\":\n",
    "    print(\"Access Granted\")\n",
    "else:\n",
    "    print(\"Access Denied\")"
   ]
  },
  {
   "cell_type": "code",
   "execution_count": null,
   "metadata": {},
   "outputs": [],
   "source": [
    "#Mood Computer Program \n",
    "\n",
    "import random\n",
    "\n",
    "print(\"I sense your energy.  Your true emotions are coming across my screen.\")\n",
    "print(\"You are...\")\n",
    "\n",
    "mood = random.randint(1, 3)\n",
    "\n",
    "if mood == 1:\n",
    "    # happy\n",
    "    print( \\\n",
    "    \"\"\"\n",
    "       -----------\n",
    "       |         |\n",
    "       | O    O  |\n",
    "       |   <     |\n",
    "       |         |\n",
    "       | .     . |\n",
    "       |  `...`  |\n",
    "       -----------\n",
    "                   \"\"\")\n",
    "elif mood == 2:\n",
    "    # neutral  \n",
    "    print( \\\n",
    "    \"\"\"\n",
    "       -----------\n",
    "       |         |\n",
    "       | O    O  |\n",
    "       |   <     |\n",
    "       |         |\n",
    "       | ------  |\n",
    "       |         |\n",
    "       -----------\n",
    "                   \"\"\")\n",
    "elif mood == 3:\n",
    "    # sad\n",
    "    print( \\\n",
    "    \"\"\"\n",
    "       -----------\n",
    "       |         |\n",
    "       | O    O  |\n",
    "       |   <     |\n",
    "       |         |\n",
    "       |  .'.    |\n",
    "       | '   '   |\n",
    "       -----------\n",
    "                   \"\"\")\n",
    "else:\n",
    "    print(\"Illegal mood value!  (You must be in a really bad mood).\")\n",
    "\n",
    "print(\"...today.\")"
   ]
  },
  {
   "cell_type": "code",
   "execution_count": null,
   "metadata": {},
   "outputs": [],
   "source": [
    "#Three Year Old Program\n",
    "\n",
    "print(\"\\tWelcome to the 'Three-Year-Old Simulator'\\n\")\n",
    "print(\"This program simulates a conversation with a three-year-old child.\")\n",
    "print(\"Try to stop the madness.\\n\")\n",
    "\n",
    "response = \"\"\n",
    "while response != \"Because.\":\n",
    "    response = input(\"Why?\\n\")\n",
    "\n",
    "print(\"Oh.  Okay.\")"
   ]
  },
  {
   "cell_type": "code",
   "execution_count": null,
   "metadata": {},
   "outputs": [],
   "source": []
  }
 ],
 "metadata": {
  "kernelspec": {
   "display_name": "Python 3",
   "language": "python",
   "name": "python3"
  },
  "language_info": {
   "codemirror_mode": {
    "name": "ipython",
    "version": 3
   },
   "file_extension": ".py",
   "mimetype": "text/x-python",
   "name": "python",
   "nbconvert_exporter": "python",
   "pygments_lexer": "ipython3",
   "version": "3.7.1"
  }
 },
 "nbformat": 4,
 "nbformat_minor": 2
}
