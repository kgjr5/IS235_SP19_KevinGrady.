{
 "cells": [
  {
   "cell_type": "code",
   "execution_count": null,
   "metadata": {},
   "outputs": [],
   "source": [
    "#Get a sentence from the user. Remove all the consonants and print out the sentence without consonants. Also count and print out the number of vowels, number of consonants, and the number of other characters.\n",
    "\n",
    "#OBTAIN SENTENCE FROM USER\n",
    "user_sentence=input(\"please enter a sentence: \")\n",
    "#ONE SENTENCE WITH ONLY VOWELS\n",
    "vowel_sentence=\"\"\n",
    "#ONE SENTENCE WITH ONLY CONSENANCE\n",
    "consonant_sentence=\"\"\n",
    "#ONE SENTENCE WITH ALL THE OTHER CHARACTERS\n",
    "other_sentence=\"\"\n",
    "#COUNT NUMBER OF VOWELS\n",
    "vowel_count=0\n",
    "#COUNT NUMBER OF CONSONANTS\n",
    "consonant_count=0\n",
    "#COUNT NUMBER OF OTHER CHARACTERS\n",
    "other_count=0\n",
    "VOWELS=\"aeiouAEIOU\"\n",
    "CONSONANTS=\"bcdfghjklmnpqrstvwxyzBCDFGHJKLMNPQRSTVWXYZ\"\n",
    "#START LOOP AT 0 UNTIL LENGTH OF THE SENTENCE\n",
    "for i in range(len(user_sentence)):\n",
    "    #CHECK IF CHARACTER IS A VOWEL\n",
    "    if user_sentence[i] in VOWELS: \n",
    "        #IF CHARACTER IS A VOWEL, \n",
    "            #ADD THE CHARACTER TO VOWEL_SENTENCE\n",
    "            vowel_sentence+=user_sentence[i]\n",
    "            #INCREASE THE NUMBER OF VOWELS BY 1\n",
    "            vowel_count+=1\n",
    "    #ELSEIF THE CHARACTER IS A CONSONANTS\n",
    "    elif user_sentence[i] in CONSONANTS:\n",
    "            #ADD THE CHARACTER TO CONSONANT_SENTENCE\n",
    "            consonant_sentence+=user_sentence[i]\n",
    "            #INCREASE THE NUMBER OF CONSONANTS BY 1\n",
    "            consonant_count+=1\n",
    "    #ELSE \n",
    "    else:\n",
    "            #THE CHARACTER IS A DIFFERENT CHARACTER\n",
    "            #ADD THE CHARACTER TO OTHER_CHARACTERS_SENTENCE\n",
    "            other_sentence+=user_sentence[i]\n",
    "            #INCREASE THE NUMBER OF OTHER CHARACTERS BY 1\n",
    "            other_count+=1\n",
    "#END LOOP\n",
    "#PRINT VOWEL SENTENCE\n",
    "print (vowel_sentence)\n",
    "#PRINT CONSONANT SENTENCE\n",
    "print (consonant_sentence)\n",
    "#PRINT OTHER CHARACTER SENTENCE\n",
    "print (other_sentence)\n",
    "#COUNT NUMBER OF VOWELS\n",
    "print (vowel_count)\n",
    "#COUNT NUMBER OF CONSONANTS\n",
    "print (consonant_count)\n",
    "#COUNT NUMBER OF OTHER CHARACTERS\n",
    "print (other_count)"
   ]
  },
  {
   "cell_type": "code",
   "execution_count": null,
   "metadata": {},
   "outputs": [],
   "source": []
  }
 ],
 "metadata": {
  "kernelspec": {
   "display_name": "Python 3",
   "language": "python",
   "name": "python3"
  },
  "language_info": {
   "codemirror_mode": {
    "name": "ipython",
    "version": 3
   },
   "file_extension": ".py",
   "mimetype": "text/x-python",
   "name": "python",
   "nbconvert_exporter": "python",
   "pygments_lexer": "ipython3",
   "version": "3.7.1"
  }
 },
 "nbformat": 4,
 "nbformat_minor": 2
}
